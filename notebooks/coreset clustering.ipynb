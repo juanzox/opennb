{
 "cells": [
  {
   "cell_type": "code",
   "execution_count": 1,
   "metadata": {
    "collapsed": false
   },
   "outputs": [
    {
     "name": "stderr",
     "output_type": "stream",
     "text": [
      "WARNING: Base.String is deprecated, use AbstractString instead.\n",
      "  likely near /home/juan/.julia/v0.4/RDatasets/src/dataset.jl:1\n",
      "WARNING: Base.String is deprecated, use AbstractString instead.\n",
      "  likely near /home/juan/.julia/v0.4/RDatasets/src/dataset.jl:1\n",
      "WARNING: Base.String is deprecated, use AbstractString instead.\n",
      "  likely near /home/juan/.julia/v0.4/RDatasets/src/datasets.jl:1\n"
     ]
    }
   ],
   "source": [
    "using Stats\n",
    "using Clustering\n",
    "using RDatasets"
   ]
  },
  {
   "cell_type": "code",
   "execution_count": 7,
   "metadata": {
    "collapsed": true
   },
   "outputs": [],
   "source": [
    "data = dataset(\"datasets\",\"iris\");\n",
    "xdata = transpose(Array(data[1:4]));"
   ]
  },
  {
   "cell_type": "code",
   "execution_count": 8,
   "metadata": {
    "collapsed": false
   },
   "outputs": [
    {
     "name": "stdout",
     "output_type": "stream",
     "text": [
      "  Iters               objv        objv-change | affected \n",
      "-------------------------------------------------------------\n",
      "      0       1.452700e+02\n",
      "      1       8.143184e+01      -6.383816e+01 |        2\n",
      "      2       7.919714e+01      -2.234698e+00 |        2\n",
      "      3       7.885144e+01      -3.457012e-01 |        0\n",
      "      4       7.885144e+01       0.000000e+00 |        0\n",
      "K-means converged with 4 iterations (objv = 78.85144142614672)\n"
     ]
    }
   ],
   "source": [
    "R = kmeans(xdata, 3; maxiter=200, display=:iter);\n",
    "M = R.centers;"
   ]
  },
  {
   "cell_type": "code",
   "execution_count": 4,
   "metadata": {
    "collapsed": false
   },
   "outputs": [
    {
     "data": {
      "text/plain": [
       "d_euc (generic function with 1 method)"
      ]
     },
     "execution_count": 4,
     "metadata": {},
     "output_type": "execute_result"
    }
   ],
   "source": [
    "function d_euc(x,y)\n",
    "    S = 0\n",
    "    N = length(x);\n",
    "    @assert N == length(y)\n",
    "    for i=1:N\n",
    "        S += (x[i]-y[i])^2;\n",
    "    end\n",
    "    return sqrt(S);\n",
    "end"
   ]
  },
  {
   "cell_type": "code",
   "execution_count": 24,
   "metadata": {
    "collapsed": false
   },
   "outputs": [],
   "source": [
    "# cost computation\n",
    "cost = 0;\n",
    "N = length(xdata[1,:]);\n",
    "clustering_weights = zeros(N);\n",
    "for i=1:N\n",
    "    i_assign = assignments(R)[i];\n",
    "    clustering_weights[i] = d_euc(xdata[:,i], M[:,i_assign]);\n",
    "    cost += clustering_weights[i];\n",
    "end\n",
    "clustering_weights = WeightVec(clustering_weights);"
   ]
  },
  {
   "cell_type": "code",
   "execution_count": 25,
   "metadata": {
    "collapsed": false
   },
   "outputs": [
    {
     "data": {
      "text/plain": [
       "StatsBase.WeightVec{Float64,Array{Float64,1}}([0.141351,0.447638,0.417109,0.525338,0.188627,0.677038,0.415187,0.0661816,0.807453,0.376271  …  0.389349,0.684038,0.853825,0.309521,0.509399,0.611739,0.897479,0.653342,0.835724,0.834527],97.20457357401652)"
      ]
     },
     "execution_count": 25,
     "metadata": {},
     "output_type": "execute_result"
    }
   ],
   "source": [
    "clustering_weights"
   ]
  },
  {
   "cell_type": "code",
   "execution_count": 27,
   "metadata": {
    "collapsed": false
   },
   "outputs": [
    {
     "data": {
      "text/plain": [
       "10-element Array{Int64,1}:\n",
       "  13\n",
       "  25\n",
       "  49\n",
       "  68\n",
       "  73\n",
       "  89\n",
       " 104\n",
       " 106\n",
       " 118\n",
       " 132"
      ]
     },
     "execution_count": 27,
     "metadata": {},
     "output_type": "execute_result"
    }
   ],
   "source": [
    "sample(1:length(clustering_weights), clustering_weights, 10, replace=false, ordered=true)"
   ]
  },
  {
   "cell_type": "code",
   "execution_count": null,
   "metadata": {
    "collapsed": true
   },
   "outputs": [],
   "source": []
  }
 ],
 "metadata": {
  "kernelspec": {
   "display_name": "Julia 0.4.3",
   "language": "julia",
   "name": "julia-0.4"
  },
  "language_info": {
   "file_extension": ".jl",
   "mimetype": "application/julia",
   "name": "julia",
   "version": "0.4.5"
  }
 },
 "nbformat": 4,
 "nbformat_minor": 0
}
